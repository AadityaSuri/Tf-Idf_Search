{
 "cells": [
  {
   "cell_type": "code",
   "execution_count": 4,
   "metadata": {},
   "outputs": [
    {
     "name": "stderr",
     "output_type": "stream",
     "text": [
      "[nltk_data] Downloading package stopwords to\n",
      "[nltk_data]     /home/aaditya11/nltk_data...\n",
      "[nltk_data]   Package stopwords is already up-to-date!\n"
     ]
    }
   ],
   "source": [
    "import pandas as pd\n",
    "import string\n",
    "import nltk\n",
    "nltk.download('stopwords')\n",
    "from collections import Counter\n",
    "from nltk.corpus import stopwords\n",
    "import math\n",
    "import numpy as np\n",
    "import os"
   ]
  },
  {
   "cell_type": "code",
   "execution_count": 5,
   "metadata": {},
   "outputs": [],
   "source": [
    "def docPreProcessing(filepath):\n",
    "    stopwords_dict = Counter(stopwords.words('english'))\n",
    "\n",
    "    file = open(filepath, 'r', errors='replace')\n",
    "    lines = file.readlines()\n",
    "\n",
    "\n",
    "    stopwords_dict = Counter(stopwords.words('english'))\n",
    "    \n",
    "    \n",
    "    doctext = \"\"\n",
    "    for line in lines:\n",
    "        line = line.translate(str.maketrans('', '', string.punctuation)).strip().lower()\n",
    "        line = ' '.join([word for word in line.split() if word not in stopwords_dict])\n",
    "        doctext += line\n",
    "        \n",
    "    doctextList = doctext.split()\n",
    "    return doctextList"
   ]
  },
  {
   "cell_type": "code",
   "execution_count": 9,
   "metadata": {},
   "outputs": [],
   "source": [
    "def tf(wordlist):\n",
    "\n",
    "    wordmap = {}\n",
    "    \n",
    "    for word in wordlist:\n",
    "        if word in wordmap:\n",
    "            wordmap[word] += 1\n",
    "        else:\n",
    "            wordmap[word] = 1\n",
    "            \n",
    "    \n",
    "    numWords = len(wordlist)\n",
    "    \n",
    "    for word in wordmap:\n",
    "        wordmap[word] = wordmap[word] / numWords\n",
    "    \n",
    "    return wordmap\n",
    "        \n"
   ]
  },
  {
   "cell_type": "code",
   "execution_count": 25,
   "metadata": {},
   "outputs": [
    {
     "name": "stdout",
     "output_type": "stream",
     "text": [
      "840.2805000000012\n"
     ]
    }
   ],
   "source": [
    "import time\n",
    "\n",
    "# //calculate average time taken for 100 runs \n",
    "total_time = 0\n",
    "for i in range(100):\n",
    "    start = time.process_time()\n",
    "    wordmap = tf(wordlist = docPreProcessing('../testset/sci.space/60151'))   \n",
    "    total_time += (time.process_time() - start)*1000000\n",
    "\n",
    "print(total_time/100)\n",
    "\n",
    "\n",
    "\n",
    "\n"
   ]
  },
  {
   "cell_type": "code",
   "execution_count": 29,
   "metadata": {},
   "outputs": [],
   "source": [
    "def tfidfMapBuilder(doclist):\n",
    "    termset = set()\n",
    "\n",
    "    for doc in doclist:\n",
    "        termset.update(set(docPreProcessing(doc)))\n",
    "\n",
    "    df_columns = doclist.copy()\n",
    "    df_columns.append('df')\n",
    "\n",
    "    df = pd.DataFrame(0, index=list(termset), columns=df_columns)\n",
    "\n",
    "    for doc in doclist:\n",
    "        wordmap = tf(docPreProcessing(doc))\n",
    "        for term in wordmap:\n",
    "            df.at[term, doc] = wordmap[term]\n",
    "            df.at[term, 'df'] += 1\n",
    "\n",
    "    N = len(doclist)\n",
    "\n",
    "    return df"
   ]
  },
  {
   "cell_type": "code",
   "execution_count": 30,
   "metadata": {},
   "outputs": [],
   "source": [
    "def mapToMatrix(df, N):\n",
    "    df['df'] = df['df'].apply(lambda x: math.log(N/x))\n",
    "\n",
    "    for index, row in df.iterrows():\n",
    "        term_df = row['df']\n",
    "        row = row.apply(lambda x: x * term_df)\n",
    "    \n",
    "    df = df.drop(columns=['df'], axis=1)\n",
    "\n",
    "    return df"
   ]
  },
  {
   "cell_type": "code",
   "execution_count": 31,
   "metadata": {},
   "outputs": [],
   "source": [
    "def cosineSimilarityScore(q, D):\n",
    "    q_mag = np.sqrt(q.dot(q))\n",
    "    \n",
    "    qT = np.reshape(q, (1, q.shape[0]))\n",
    "    qTD = np.matmul(qT, D).reshape((D.shape[1], ))\n",
    "    \n",
    "    D_mags = np.sqrt(np.sum(D*D, axis=0))\n",
    "    divisors = q_mag * D_mags\n",
    "    cos_thetas = np.divide(qTD, divisors)\n",
    "    \n",
    "    cos_thetas = np.clip(cos_thetas, -1, 1)\n",
    "    \n",
    "    scores = np.arccos(cos_thetas)\n",
    "    \n",
    "    return scores\n",
    "    "
   ]
  },
  {
   "cell_type": "code",
   "execution_count": 50,
   "metadata": {},
   "outputs": [],
   "source": [
    "def fileCollector(path):\n",
    "    filelist = []\n",
    "    \n",
    "    for (root, dirs, files) in os.walk(path, topdown=True):\n",
    "        for file in files:\n",
    "            filelist.append(os.path.join(root, file))\n",
    "            \n",
    "            if len(filelist) == 100:\n",
    "                return filelist\n",
    "\n",
    "    return filelist"
   ]
  },
  {
   "cell_type": "code",
   "execution_count": 51,
   "metadata": {},
   "outputs": [],
   "source": [
    "doclist = []\n",
    "\n",
    "doclist.append('query.txt')\n",
    "\n",
    "doclist.extend(fileCollector(r'../testset/sci.space'))\n",
    "\n",
    "tfidfDataFrame = mapToMatrix(tfidfMapBuilder(doclist), len(doclist))\n",
    "\n",
    "# tfidfDataFrame\n",
    "# tfidfMapBuilder.to_csv('tfidf.csv')\n",
    "\n",
    "doc_tfidfMatrix = tfidfDataFrame.loc[:, tfidfDataFrame.columns != 'query.txt'].to_numpy().round(decimals=4)\n",
    "query_vector = tfidfDataFrame.loc[:, \"query.txt\"].to_numpy().round(decimals=4)"
   ]
  },
  {
   "cell_type": "code",
   "execution_count": 52,
   "metadata": {},
   "outputs": [
    {
     "name": "stdout",
     "output_type": "stream",
     "text": [
      "../testset/sci.space/60827 : 1.4725654859548984\n",
      "../testset/sci.space/61138 : 1.473050747060915\n",
      "../testset/sci.space/61288 : 1.512040504079174\n",
      "../testset/sci.space/60168 : 1.5331981328975341\n",
      "../testset/sci.space/61339 : 1.5389541866018606\n"
     ]
    }
   ],
   "source": [
    "scorelist = cosineSimilarityScore(query_vector, doc_tfidfMatrix)\n",
    "scoremap = {}\n",
    "\n",
    "for index, score in enumerate(scorelist):\n",
    "    scoremap[tfidfDataFrame.columns[index + 1]] = score\n",
    "\n",
    "scoremap = dict(sorted(scoremap.items(), key=lambda item:item[1]))\n",
    "\n",
    "for doc in list(scoremap.items())[:5]:\n",
    "    print(doc[0] + \" : \" + str(doc[1]))\n"
   ]
  },
  {
   "cell_type": "markdown",
   "metadata": {},
   "source": []
  }
 ],
 "metadata": {
  "kernelspec": {
   "display_name": "Python 3",
   "language": "python",
   "name": "python3"
  },
  "language_info": {
   "codemirror_mode": {
    "name": "ipython",
    "version": 3
   },
   "file_extension": ".py",
   "mimetype": "text/x-python",
   "name": "python",
   "nbconvert_exporter": "python",
   "pygments_lexer": "ipython3",
   "version": "3.10.6"
  },
  "orig_nbformat": 4
 },
 "nbformat": 4,
 "nbformat_minor": 2
}
