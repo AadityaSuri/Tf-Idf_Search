{
 "cells": [
  {
   "cell_type": "code",
   "execution_count": 1,
   "metadata": {},
   "outputs": [
    {
     "name": "stderr",
     "output_type": "stream",
     "text": [
      "[nltk_data] Downloading package stopwords to\n",
      "[nltk_data]     /home/aaditya11/nltk_data...\n",
      "[nltk_data]   Package stopwords is already up-to-date!\n"
     ]
    }
   ],
   "source": [
    "import pandas as pd\n",
    "import string\n",
    "import nltk\n",
    "nltk.download('stopwords')\n",
    "from collections import Counter\n",
    "from nltk.corpus import stopwords\n",
    "import math\n",
    "import numpy as np\n",
    "import os"
   ]
  },
  {
   "cell_type": "code",
   "execution_count": 3,
   "metadata": {},
   "outputs": [],
   "source": [
    "def docPreProcessing(filepath):\n",
    "    stopwords_dict = Counter(stopwords.words('english'))\n",
    "\n",
    "    file = open(filepath, 'r')\n",
    "    lines = file.readlines()\n",
    "    \n",
    "    print(filepath)\n",
    "\n",
    "    stopwords_dict = Counter(stopwords.words('english'))\n",
    "    \n",
    "    \n",
    "    doctext = \"\"\n",
    "    for line in lines:\n",
    "        line = line.translate(str.maketrans('', '', string.punctuation)).strip().lower()\n",
    "        line = ' '.join([word for word in line.split() if word not in stopwords_dict])\n",
    "        doctext += line\n",
    "        \n",
    "    doctextList = doctext.split()\n",
    "    return doctextList"
   ]
  },
  {
   "cell_type": "code",
   "execution_count": 33,
   "metadata": {},
   "outputs": [],
   "source": [
    "def tf(wordlist):\n",
    "    # global tfcount\n",
    "    # tfcount += 1\n",
    "    wordmap = {}\n",
    "    \n",
    "    for word in wordlist:\n",
    "        if word in wordmap:\n",
    "            wordmap[word] += 1\n",
    "        else:\n",
    "            wordmap[word] = 1\n",
    "            \n",
    "    \n",
    "    numWords = len(wordlist)\n",
    "    \n",
    "    for word in wordmap:\n",
    "        wordmap[word] = wordmap[word] / numWords\n",
    "    \n",
    "    return wordmap\n",
    "        \n"
   ]
  },
  {
   "cell_type": "code",
   "execution_count": 34,
   "metadata": {},
   "outputs": [],
   "source": [
    "def tfidfMapBuilder(doclist):\n",
    "    termset = set()\n",
    "\n",
    "    for doc in doclist:\n",
    "        termset.update(set(docPreProcessing(doc)))\n",
    "\n",
    "    df_columns = doclist.copy()\n",
    "    df_columns.append('df')\n",
    "    print(df_columns)\n",
    "\n",
    "    df = pd.DataFrame(0, index=list(termset), columns=df_columns)\n",
    "\n",
    "    for doc in doclist:\n",
    "        wordmap = tf(docPreProcessing(doc))\n",
    "        for term in wordmap:\n",
    "            df.at[term, doc] = wordmap[term]\n",
    "            df.at[term, 'df'] += 1\n",
    "\n",
    "    # print(df)\n",
    "\n",
    "    return df\n",
    "\n",
    "    # print(len(termset))"
   ]
  },
  {
   "cell_type": "code",
   "execution_count": 35,
   "metadata": {},
   "outputs": [],
   "source": [
    "def fileCollector(path):\n",
    "    filelist = []\n",
    "    \n",
    "    for (root, dirs, files) in os.walk(path, topdown=True):\n",
    "        for file in files:\n",
    "            filelist.append(os.path.join(root, file))\n",
    "            \n",
    "            # if len(filelist) == 20:\n",
    "            #     return filelist\n",
    "\n",
    "    return filelist"
   ]
  },
  {
   "cell_type": "code",
   "execution_count": 36,
   "metadata": {},
   "outputs": [
    {
     "name": "stdout",
     "output_type": "stream",
     "text": [
      "../testset/sci.space/60777\n",
      "../testset/sci.space/61312\n",
      "../testset/sci.space/61023\n",
      "../testset/sci.space/61090\n",
      "../testset/sci.space/61145\n",
      "../testset/sci.space/61245\n",
      "../testset/sci.space/61042\n",
      "../testset/sci.space/61433\n",
      "../testset/sci.space/61064\n",
      "../testset/sci.space/60978\n",
      "../testset/sci.space/60894\n",
      "../testset/sci.space/60910\n",
      "../testset/sci.space/60785\n",
      "../testset/sci.space/60252\n",
      "../testset/sci.space/61035\n",
      "../testset/sci.space/60888\n",
      "../testset/sci.space/61186\n",
      "../testset/sci.space/60253\n",
      "../testset/sci.space/61138\n",
      "../testset/sci.space/62477\n",
      "['../testset/sci.space/60777', '../testset/sci.space/61312', '../testset/sci.space/61023', '../testset/sci.space/61090', '../testset/sci.space/61145', '../testset/sci.space/61245', '../testset/sci.space/61042', '../testset/sci.space/61433', '../testset/sci.space/61064', '../testset/sci.space/60978', '../testset/sci.space/60894', '../testset/sci.space/60910', '../testset/sci.space/60785', '../testset/sci.space/60252', '../testset/sci.space/61035', '../testset/sci.space/60888', '../testset/sci.space/61186', '../testset/sci.space/60253', '../testset/sci.space/61138', '../testset/sci.space/62477', 'df']\n",
      "../testset/sci.space/60777\n",
      "../testset/sci.space/61312\n",
      "../testset/sci.space/61023\n",
      "../testset/sci.space/61090\n",
      "../testset/sci.space/61145\n",
      "../testset/sci.space/61245\n",
      "../testset/sci.space/61042\n",
      "../testset/sci.space/61433\n",
      "../testset/sci.space/61064\n",
      "../testset/sci.space/60978\n",
      "../testset/sci.space/60894\n",
      "../testset/sci.space/60910\n",
      "../testset/sci.space/60785\n",
      "../testset/sci.space/60252\n",
      "../testset/sci.space/61035\n",
      "../testset/sci.space/60888\n",
      "../testset/sci.space/61186\n",
      "../testset/sci.space/60253\n",
      "../testset/sci.space/61138\n",
      "../testset/sci.space/62477\n"
     ]
    }
   ],
   "source": [
    "doclist = []\n",
    "\n",
    "# doclist.append('query.txt')\n",
    "\n",
    "doclist.extend(fileCollector(r'../testset/sci.space'))\n",
    "\n",
    "tfidfMapBuilder(doclist).to_csv('tfidf.csv')\n",
    "# tfidfMapBuilder.to_csv('tfidf.csv')\n",
    "\n"
   ]
  }
 ],
 "metadata": {
  "kernelspec": {
   "display_name": "Python 3",
   "language": "python",
   "name": "python3"
  },
  "language_info": {
   "codemirror_mode": {
    "name": "ipython",
    "version": 3
   },
   "file_extension": ".py",
   "mimetype": "text/x-python",
   "name": "python",
   "nbconvert_exporter": "python",
   "pygments_lexer": "ipython3",
   "version": "3.10.6"
  },
  "orig_nbformat": 4
 },
 "nbformat": 4,
 "nbformat_minor": 2
}
