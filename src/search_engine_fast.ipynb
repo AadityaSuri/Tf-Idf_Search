{
 "cells": [
  {
   "cell_type": "code",
   "execution_count": 4,
   "metadata": {},
   "outputs": [
    {
     "name": "stderr",
     "output_type": "stream",
     "text": [
      "[nltk_data] Downloading package stopwords to\n",
      "[nltk_data]     /home/aaditya11/nltk_data...\n",
      "[nltk_data]   Package stopwords is already up-to-date!\n"
     ]
    }
   ],
   "source": [
    "import pandas as pd\n",
    "import string\n",
    "import nltk\n",
    "nltk.download('stopwords')\n",
    "from collections import Counter\n",
    "from nltk.corpus import stopwords\n",
    "import math\n",
    "import numpy as np\n",
    "import os"
   ]
  },
  {
   "cell_type": "code",
   "execution_count": 5,
   "metadata": {},
   "outputs": [],
   "source": [
    "def docPreProcessing(filepath):\n",
    "    stopwords_dict = Counter(stopwords.words('english'))\n",
    "\n",
    "    file = open(filepath, 'r', errors='replace')\n",
    "    lines = file.readlines()    \n",
    "    \n",
    "    doctext = \"\"\n",
    "    for line in lines:\n",
    "        line = line.translate(str.maketrans('', '', string.punctuation)).strip().lower()\n",
    "        line = ' '.join([word for word in line.split() if word not in stopwords_dict])\n",
    "        doctext += line\n",
    "        \n",
    "    doctextList = doctext.split()\n",
    "    return doctextList"
   ]
  },
  {
   "cell_type": "code",
   "execution_count": 36,
   "metadata": {},
   "outputs": [
    {
     "name": "stdout",
     "output_type": "stream",
     "text": [
      "Counter({'i': 1, 'me': 1, 'my': 1, 'myself': 1, 'we': 1, 'our': 1, 'ours': 1, 'ourselves': 1, 'you': 1, \"you're\": 1, \"you've\": 1, \"you'll\": 1, \"you'd\": 1, 'your': 1, 'yours': 1, 'yourself': 1, 'yourselves': 1, 'he': 1, 'him': 1, 'his': 1, 'himself': 1, 'she': 1, \"she's\": 1, 'her': 1, 'hers': 1, 'herself': 1, 'it': 1, \"it's\": 1, 'its': 1, 'itself': 1, 'they': 1, 'them': 1, 'their': 1, 'theirs': 1, 'themselves': 1, 'what': 1, 'which': 1, 'who': 1, 'whom': 1, 'this': 1, 'that': 1, \"that'll\": 1, 'these': 1, 'those': 1, 'am': 1, 'is': 1, 'are': 1, 'was': 1, 'were': 1, 'be': 1, 'been': 1, 'being': 1, 'have': 1, 'has': 1, 'had': 1, 'having': 1, 'do': 1, 'does': 1, 'did': 1, 'doing': 1, 'a': 1, 'an': 1, 'the': 1, 'and': 1, 'but': 1, 'if': 1, 'or': 1, 'because': 1, 'as': 1, 'until': 1, 'while': 1, 'of': 1, 'at': 1, 'by': 1, 'for': 1, 'with': 1, 'about': 1, 'against': 1, 'between': 1, 'into': 1, 'through': 1, 'during': 1, 'before': 1, 'after': 1, 'above': 1, 'below': 1, 'to': 1, 'from': 1, 'up': 1, 'down': 1, 'in': 1, 'out': 1, 'on': 1, 'off': 1, 'over': 1, 'under': 1, 'again': 1, 'further': 1, 'then': 1, 'once': 1, 'here': 1, 'there': 1, 'when': 1, 'where': 1, 'why': 1, 'how': 1, 'all': 1, 'any': 1, 'both': 1, 'each': 1, 'few': 1, 'more': 1, 'most': 1, 'other': 1, 'some': 1, 'such': 1, 'no': 1, 'nor': 1, 'not': 1, 'only': 1, 'own': 1, 'same': 1, 'so': 1, 'than': 1, 'too': 1, 'very': 1, 's': 1, 't': 1, 'can': 1, 'will': 1, 'just': 1, 'don': 1, \"don't\": 1, 'should': 1, \"should've\": 1, 'now': 1, 'd': 1, 'll': 1, 'm': 1, 'o': 1, 're': 1, 've': 1, 'y': 1, 'ain': 1, 'aren': 1, \"aren't\": 1, 'couldn': 1, \"couldn't\": 1, 'didn': 1, \"didn't\": 1, 'doesn': 1, \"doesn't\": 1, 'hadn': 1, \"hadn't\": 1, 'hasn': 1, \"hasn't\": 1, 'haven': 1, \"haven't\": 1, 'isn': 1, \"isn't\": 1, 'ma': 1, 'mightn': 1, \"mightn't\": 1, 'mustn': 1, \"mustn't\": 1, 'needn': 1, \"needn't\": 1, 'shan': 1, \"shan't\": 1, 'shouldn': 1, \"shouldn't\": 1, 'wasn': 1, \"wasn't\": 1, 'weren': 1, \"weren't\": 1, 'won': 1, \"won't\": 1, 'wouldn': 1, \"wouldn't\": 1})\n"
     ]
    }
   ],
   "source": [
    "# stop = stopwords.words('english')\n",
    "\n",
    "# for word in stop:\n",
    "#     print('\"' + word + '\",')\n",
    "\n",
    "# print(Counter(stopwords.words('english')))"
   ]
  },
  {
   "cell_type": "code",
   "execution_count": 9,
   "metadata": {},
   "outputs": [],
   "source": [
    "def tf(wordlist):\n",
    "\n",
    "    wordmap = {}\n",
    "    \n",
    "    for word in wordlist:\n",
    "        if word in wordmap:\n",
    "            wordmap[word] += 1\n",
    "        else:\n",
    "            wordmap[word] = 1\n",
    "            \n",
    "    \n",
    "    numWords = len(wordlist)\n",
    "    \n",
    "    for word in wordmap:\n",
    "        wordmap[word] = wordmap[word] / numWords\n",
    "    \n",
    "    return wordmap\n",
    "        \n"
   ]
  },
  {
   "cell_type": "code",
   "execution_count": 45,
   "metadata": {},
   "outputs": [
    {
     "name": "stdout",
     "output_type": "stream",
     "text": [
      "0\n",
      "1000\n",
      "2000\n",
      "3000\n",
      "4000\n",
      "5000\n",
      "6000\n",
      "7000\n",
      "8000\n",
      "9000\n",
      "Average time taken: 571.124222400007 microseconds\n",
      "Total time taken: 5742999.086999987 microseconds\n"
     ]
    }
   ],
   "source": [
    "import time\n",
    "\n",
    "# //calculate average time taken for 100 runs \n",
    "total_time = 0\n",
    "N = 10000\n",
    "\n",
    "start_global = time.process_time()\n",
    "for i in range(N):\n",
    "\n",
    "    if i % 1000 == 0:\n",
    "        print(i)\n",
    "\n",
    "    start = time.process_time()\n",
    "    wordmap = tf(wordlist = docPreProcessing('../testset/sci.space/60151'))   \n",
    "    total_time += (time.process_time() - start)*1000000\n",
    "\n",
    "end_global = time.process_time()\n",
    "\n",
    "print(\"Average time taken: \" + str(total_time/N) + \" microseconds\")\n",
    "print(\"Total time taken: \" + str((end_global - start_global)*1000000) + \" microseconds\")\n",
    "\n",
    "\n"
   ]
  },
  {
   "cell_type": "code",
   "execution_count": 29,
   "metadata": {},
   "outputs": [],
   "source": [
    "def tfidfMapBuilder(doclist):\n",
    "    termset = set()\n",
    "\n",
    "    for doc in doclist:\n",
    "        termset.update(set(docPreProcessing(doc)))\n",
    "\n",
    "    df_columns = doclist.copy()\n",
    "    df_columns.append('df')\n",
    "\n",
    "    df = pd.DataFrame(0, index=list(termset), columns=df_columns)\n",
    "\n",
    "    for doc in doclist:\n",
    "        wordmap = tf(docPreProcessing(doc))\n",
    "        for term in wordmap:\n",
    "            df.at[term, doc] = wordmap[term]\n",
    "            df.at[term, 'df'] += 1\n",
    "\n",
    "    N = len(doclist)\n",
    "\n",
    "    return df"
   ]
  },
  {
   "cell_type": "code",
   "execution_count": 30,
   "metadata": {},
   "outputs": [],
   "source": [
    "def mapToMatrix(df, N):\n",
    "    df['df'] = df['df'].apply(lambda x: math.log(N/x))\n",
    "\n",
    "    for index, row in df.iterrows():\n",
    "        term_df = row['df']\n",
    "        row = row.apply(lambda x: x * term_df)\n",
    "    \n",
    "    df = df.drop(columns=['df'], axis=1)\n",
    "\n",
    "    return df"
   ]
  },
  {
   "cell_type": "code",
   "execution_count": 31,
   "metadata": {},
   "outputs": [],
   "source": [
    "def cosineSimilarityScore(q, D):\n",
    "    q_mag = np.sqrt(q.dot(q))\n",
    "    \n",
    "    qT = np.reshape(q, (1, q.shape[0]))\n",
    "    qTD = np.matmul(qT, D).reshape((D.shape[1], ))\n",
    "    \n",
    "    D_mags = np.sqrt(np.sum(D*D, axis=0))\n",
    "    divisors = q_mag * D_mags\n",
    "    cos_thetas = np.divide(qTD, divisors)\n",
    "    \n",
    "    cos_thetas = np.clip(cos_thetas, -1, 1)\n",
    "    \n",
    "    scores = np.arccos(cos_thetas)\n",
    "    \n",
    "    return scores\n",
    "    "
   ]
  },
  {
   "cell_type": "code",
   "execution_count": 50,
   "metadata": {},
   "outputs": [],
   "source": [
    "def fileCollector(path):\n",
    "    filelist = []\n",
    "    \n",
    "    for (root, dirs, files) in os.walk(path, topdown=True):\n",
    "        for file in files:\n",
    "            filelist.append(os.path.join(root, file))\n",
    "            \n",
    "            if len(filelist) == 100:\n",
    "                return filelist\n",
    "\n",
    "    return filelist"
   ]
  },
  {
   "cell_type": "code",
   "execution_count": 51,
   "metadata": {},
   "outputs": [],
   "source": [
    "doclist = []\n",
    "\n",
    "doclist.append('query.txt')\n",
    "\n",
    "doclist.extend(fileCollector(r'../testset/sci.space'))\n",
    "\n",
    "tfidfDataFrame = mapToMatrix(tfidfMapBuilder(doclist), len(doclist))\n",
    "\n",
    "# tfidfDataFrame\n",
    "# tfidfMapBuilder.to_csv('tfidf.csv')\n",
    "\n",
    "doc_tfidfMatrix = tfidfDataFrame.loc[:, tfidfDataFrame.columns != 'query.txt'].to_numpy().round(decimals=4)\n",
    "query_vector = tfidfDataFrame.loc[:, \"query.txt\"].to_numpy().round(decimals=4)"
   ]
  },
  {
   "cell_type": "code",
   "execution_count": 52,
   "metadata": {},
   "outputs": [
    {
     "name": "stdout",
     "output_type": "stream",
     "text": [
      "../testset/sci.space/60827 : 1.4725654859548984\n",
      "../testset/sci.space/61138 : 1.473050747060915\n",
      "../testset/sci.space/61288 : 1.512040504079174\n",
      "../testset/sci.space/60168 : 1.5331981328975341\n",
      "../testset/sci.space/61339 : 1.5389541866018606\n"
     ]
    }
   ],
   "source": [
    "scorelist = cosineSimilarityScore(query_vector, doc_tfidfMatrix)\n",
    "scoremap = {}\n",
    "\n",
    "for index, score in enumerate(scorelist):\n",
    "    scoremap[tfidfDataFrame.columns[index + 1]] = score\n",
    "\n",
    "scoremap = dict(sorted(scoremap.items(), key=lambda item:item[1]))\n",
    "\n",
    "for doc in list(scoremap.items())[:5]:\n",
    "    print(doc[0] + \" : \" + str(doc[1]))\n"
   ]
  },
  {
   "cell_type": "markdown",
   "metadata": {},
   "source": []
  }
 ],
 "metadata": {
  "kernelspec": {
   "display_name": "Python 3",
   "language": "python",
   "name": "python3"
  },
  "language_info": {
   "codemirror_mode": {
    "name": "ipython",
    "version": 3
   },
   "file_extension": ".py",
   "mimetype": "text/x-python",
   "name": "python",
   "nbconvert_exporter": "python",
   "pygments_lexer": "ipython3",
   "version": "3.10.6"
  },
  "orig_nbformat": 4
 },
 "nbformat": 4,
 "nbformat_minor": 2
}
