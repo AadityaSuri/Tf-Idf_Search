{
 "cells": [
  {
   "cell_type": "code",
   "execution_count": 26,
   "id": "1b0ac55b",
   "metadata": {},
   "outputs": [
    {
     "name": "stderr",
     "output_type": "stream",
     "text": [
      "[nltk_data] Downloading package stopwords to\n",
      "[nltk_data]     C:\\Users\\aadit\\AppData\\Roaming\\nltk_data...\n",
      "[nltk_data]   Package stopwords is already up-to-date!\n"
     ]
    }
   ],
   "source": [
    "import pandas as pd\n",
    "import string\n",
    "import nltk\n",
    "nltk.download('stopwords')\n",
    "from collections import Counter\n",
    "from nltk.corpus import stopwords\n",
    "import math\n",
    "import numpy as np\n",
    "import os"
   ]
  },
  {
   "cell_type": "code",
   "execution_count": 27,
   "id": "3502b4cc",
   "metadata": {},
   "outputs": [],
   "source": [
    "stopwords_dict = Counter(stopwords.words('english'))"
   ]
  },
  {
   "cell_type": "code",
   "execution_count": 28,
   "id": "b383cf0a",
   "metadata": {},
   "outputs": [],
   "source": [
    "def docPreProcessing(filepath):\n",
    "    file = open(filepath, 'r')\n",
    "    lines = file.readlines()\n",
    "    \n",
    "    print(filepath)\n",
    "    \n",
    "    \n",
    "    doctext = \"\"\n",
    "    for line in lines:\n",
    "        line = line.translate(str.maketrans('', '', string.punctuation)).strip().lower()\n",
    "        line = ' '.join([word for word in line.split() if word not in stopwords_dict])\n",
    "        doctext += line\n",
    "        \n",
    "    doctextList = doctext.split()\n",
    "    return doctextList\n",
    "        \n"
   ]
  },
  {
   "cell_type": "code",
   "execution_count": 29,
   "id": "28045222",
   "metadata": {},
   "outputs": [],
   "source": [
    "def tf(wordlist):\n",
    "    wordmap = {}\n",
    "    \n",
    "    for word in wordlist:\n",
    "        if word in wordmap:\n",
    "            wordmap[word] += 1\n",
    "        else:\n",
    "            wordmap[word] = 1\n",
    "            \n",
    "    \n",
    "    numWords = len(wordlist)\n",
    "    \n",
    "    for word in wordmap:\n",
    "        wordmap[word] = wordmap[word] / numWords\n",
    "    \n",
    "    return wordmap\n",
    "        \n"
   ]
  },
  {
   "cell_type": "code",
   "execution_count": 31,
   "id": "351ee757",
   "metadata": {},
   "outputs": [],
   "source": [
    "def idf(doclist):\n",
    "    \n",
    "    idfmap = {}\n",
    "    \n",
    "    for doc in doclist:\n",
    "        wordmap = tf(docPreProcessing(doc))\n",
    "        \n",
    "        for term in wordmap:\n",
    "            if term in idfmap:\n",
    "                idfmap[term] += 1\n",
    "            else:\n",
    "                idfmap[term] = 1\n",
    "                \n",
    "    N = len(doclist)\n",
    "                \n",
    "            \n",
    "    for term in idfmap:\n",
    "        idfmap[term] = math.log(N/idfmap[term], 2)\n",
    "        \n",
    "    return idfmap\n",
    "        "
   ]
  },
  {
   "cell_type": "code",
   "execution_count": 32,
   "id": "5cc01f59",
   "metadata": {},
   "outputs": [],
   "source": [
    "def docMatrixBuilder(doclist, tf, idf):\n",
    "    idfmap = idf(doclist)\n",
    "    terms = list(idfmap)\n",
    "    df = pd.DataFrame(0, index = terms, columns = doclist)\n",
    "    \n",
    "    for doc in doclist:\n",
    "        wordmap = tf(docPreProcessing(doc))\n",
    "        \n",
    "        for word in wordmap:\n",
    "            df.loc[word, doc] = wordmap[word]\n",
    "        \n",
    "        for term in idfmap:\n",
    "            df.loc[term, doc] *= idfmap[term]            \n",
    "    \n",
    "    \n",
    "    return df"
   ]
  },
  {
   "cell_type": "code",
   "execution_count": 33,
   "id": "02bce609",
   "metadata": {},
   "outputs": [],
   "source": [
    "def cosineSimilarityScore(q, D):\n",
    "    q_mag = np.sqrt(q.dot(q))\n",
    "    \n",
    "    qT = np.reshape(q, (1, q.shape[0]))\n",
    "    qTD = np.matmul(qT, D).reshape((D.shape[1], ))\n",
    "    \n",
    "    D_mags = np.sqrt(np.sum(D*D, axis=0))\n",
    "    divisors = q_mag * D_mags\n",
    "    cos_thetas = np.divide(qTD, divisors)\n",
    "    \n",
    "    cos_thetas = np.clip(cos_thetas, -1, 1)\n",
    "    \n",
    "    scores = np.arccos(cos_thetas)\n",
    "    \n",
    "    return scores\n",
    "    \n",
    "        "
   ]
  },
  {
   "cell_type": "code",
   "execution_count": 34,
   "id": "459d599a",
   "metadata": {},
   "outputs": [],
   "source": [
    "def fileCollector(path):\n",
    "    filelist = []\n",
    "    \n",
    "    for (root, dirs, files) in os.walk(path, topdown=True):\n",
    "        for file in files:\n",
    "            filelist.append(os.path.join(root, file))\n",
    "            \n",
    "            if len(filelist) == 20:\n",
    "                return filelist\n",
    "\n",
    "    return filelist"
   ]
  },
  {
   "cell_type": "code",
   "execution_count": 43,
   "id": "3838a11a",
   "metadata": {},
   "outputs": [
    {
     "name": "stdout",
     "output_type": "stream",
     "text": [
      "query.txt\n",
      "..\\testset\\sci.space\\59497\n",
      "..\\testset\\sci.space\\59846\n",
      "..\\testset\\sci.space\\59848\n",
      "..\\testset\\sci.space\\59849\n",
      "..\\testset\\sci.space\\59850\n",
      "..\\testset\\sci.space\\59870\n",
      "..\\testset\\sci.space\\59871\n",
      "..\\testset\\sci.space\\59872\n",
      "..\\testset\\sci.space\\59873\n",
      "..\\testset\\sci.space\\59874\n",
      "..\\testset\\sci.space\\59904\n",
      "..\\testset\\sci.space\\59905\n",
      "..\\testset\\sci.space\\59906\n",
      "..\\testset\\sci.space\\59907\n",
      "..\\testset\\sci.space\\59908\n",
      "..\\testset\\sci.space\\59909\n",
      "..\\testset\\sci.space\\59913\n",
      "..\\testset\\sci.space\\60103\n",
      "..\\testset\\sci.space\\60151\n",
      "..\\testset\\sci.space\\60153\n",
      "query.txt\n",
      "..\\testset\\sci.space\\59497\n",
      "..\\testset\\sci.space\\59846\n",
      "..\\testset\\sci.space\\59848\n",
      "..\\testset\\sci.space\\59849\n",
      "..\\testset\\sci.space\\59850\n",
      "..\\testset\\sci.space\\59870\n",
      "..\\testset\\sci.space\\59871\n",
      "..\\testset\\sci.space\\59872\n",
      "..\\testset\\sci.space\\59873\n",
      "..\\testset\\sci.space\\59874\n",
      "..\\testset\\sci.space\\59904\n",
      "..\\testset\\sci.space\\59905\n",
      "..\\testset\\sci.space\\59906\n",
      "..\\testset\\sci.space\\59907\n",
      "..\\testset\\sci.space\\59908\n",
      "..\\testset\\sci.space\\59909\n",
      "..\\testset\\sci.space\\59913\n",
      "..\\testset\\sci.space\\60103\n",
      "..\\testset\\sci.space\\60151\n",
      "..\\testset\\sci.space\\60153\n"
     ]
    }
   ],
   "source": [
    "doclist = []\n",
    "\n",
    "doclist.append('query.txt')\n",
    "\n",
    "doclist.extend(fileCollector(r'..\\testset\\sci.space'))\n",
    "\n",
    "\n",
    "# i = 1\n",
    "# for i in range(1, 7):\n",
    "#      doclist.append('sample' + str(i) + '.txt')\n",
    "\n",
    "tfidfDataframe = docMatrixBuilder(doclist, tf, idf)\n",
    "\n",
    "doc_tfidfMatrix = tfidfDataframe.loc[:, tfidfDataframe.columns != 'query.txt'].to_numpy().round(decimals=4)\n",
    "query_vector = tfidfDataframe.loc[:, \"query.txt\"].to_numpy().round(decimals=4)\n",
    "\n",
    "scorelist = cosineSimilarityScore(query_vector, doc_tfidfMatrix).tolist()\n",
    "\n",
    "scoremap = {}\n",
    "\n"
   ]
  },
  {
   "cell_type": "code",
   "execution_count": 44,
   "id": "aa2c821b",
   "metadata": {},
   "outputs": [
    {
     "name": "stdout",
     "output_type": "stream",
     "text": [
      "('..\\\\testset\\\\sci.space\\\\59497', 1.3973239656646301)\n",
      "('..\\\\testset\\\\sci.space\\\\59873', 1.5632445039550031)\n",
      "('..\\\\testset\\\\sci.space\\\\59913', 1.5636574802950476)\n",
      "('..\\\\testset\\\\sci.space\\\\59849', 1.5641704463184807)\n",
      "('..\\\\testset\\\\sci.space\\\\59846', 1.5707963267948966)\n"
     ]
    }
   ],
   "source": [
    "for index, score in enumerate(scorelist):\n",
    "    scoremap[tfidfDataframe.columns[index + 1]] = score\n",
    "\n",
    "scoremap = dict(sorted(scoremap.items(), key=lambda item:item[1]))\n",
    "\n",
    "for doc in list(scoremap.items())[:5]:\n",
    "    print(doc)\n",
    "\n",
    "\n",
    "        "
   ]
  }
 ],
 "metadata": {
  "kernelspec": {
   "display_name": "Python 3 (ipykernel)",
   "language": "python",
   "name": "python3"
  },
  "language_info": {
   "codemirror_mode": {
    "name": "ipython",
    "version": 3
   },
   "file_extension": ".py",
   "mimetype": "text/x-python",
   "name": "python",
   "nbconvert_exporter": "python",
   "pygments_lexer": "ipython3",
   "version": "3.9.7"
  }
 },
 "nbformat": 4,
 "nbformat_minor": 5
}
