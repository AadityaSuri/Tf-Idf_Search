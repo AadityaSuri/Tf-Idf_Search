{
 "cells": [
  {
   "cell_type": "code",
   "execution_count": 16,
   "id": "16538d5b",
   "metadata": {},
   "outputs": [
    {
     "name": "stderr",
     "output_type": "stream",
     "text": [
      "[nltk_data] Downloading package stopwords to\n",
      "[nltk_data]     C:\\Users\\aadit\\AppData\\Roaming\\nltk_data...\n",
      "[nltk_data]   Unzipping corpora\\stopwords.zip.\n"
     ]
    }
   ],
   "source": [
    "import pandas as pd\n",
    "import string\n",
    "import nltk\n",
    "nltk.download('stopwords')\n",
    "from collections import Counter\n",
    "from nltk.corpus import stopwords\n"
   ]
  },
  {
   "cell_type": "code",
   "execution_count": 40,
   "id": "f66f6eaa",
   "metadata": {},
   "outputs": [],
   "source": [
    "stopwords_dict = Counter(stopwords.words('english'))"
   ]
  },
  {
   "cell_type": "code",
   "execution_count": 41,
   "id": "9320a86d",
   "metadata": {},
   "outputs": [],
   "source": [
    "def docPreProcessing(filepath):\n",
    "    file = open(filepath, 'r')\n",
    "    lines = file.readlines()\n",
    "    \n",
    "    \n",
    "    doctext = \"\"\n",
    "    for line in lines:\n",
    "        line = line.translate(str.maketrans('', '', string.punctuation)).strip().lower()\n",
    "        line = ' '.join([word for word in line.split() if word not in stopwords_dict])\n",
    "        doctext += line\n",
    "        \n",
    "    doctextList = doctext.split()\n",
    "    return doctextList\n",
    "        \n"
   ]
  },
  {
   "cell_type": "code",
   "execution_count": null,
   "id": "22cd5e6d",
   "metadata": {},
   "outputs": [],
   "source": []
  },
  {
   "cell_type": "code",
   "execution_count": 54,
   "id": "6654ac29",
   "metadata": {},
   "outputs": [],
   "source": [
    "def tf(wordlist):\n",
    "    wordmap = {}\n",
    "    \n",
    "    for word in wordlist:\n",
    "        if word in wordmap:\n",
    "            wordmap[word] += 1\n",
    "        else:\n",
    "            wordmap[word] = 1\n",
    "            \n",
    "    \n",
    "    numWords = len(wordmap)\n",
    "    print(numWords)\n",
    "    \n",
    "    for word in wordmap:\n",
    "        wordmap[word] = wordmap[word] / numWords\n",
    "    \n",
    "    return wordmap\n",
    "        \n"
   ]
  },
  {
   "cell_type": "code",
   "execution_count": 55,
   "id": "44501b39",
   "metadata": {},
   "outputs": [
    {
     "name": "stdout",
     "output_type": "stream",
     "text": [
      "122\n"
     ]
    },
    {
     "data": {
      "text/plain": [
       "{'birds': 0.09836065573770492,\n",
       " 'fascinating': 0.01639344262295082,\n",
       " 'creatures': 0.01639344262295082,\n",
       " 'planet': 0.00819672131147541,\n",
       " 'come': 0.00819672131147541,\n",
       " 'variety': 0.01639344262295082,\n",
       " 'shapes': 0.00819672131147541,\n",
       " 'sizes': 0.00819672131147541,\n",
       " 'colors': 0.00819672131147541,\n",
       " 'behavior': 0.01639344262295082,\n",
       " 'entertaining': 0.00819672131147541,\n",
       " 'aweinspiring': 0.00819672131147541,\n",
       " 'tiny': 0.00819672131147541,\n",
       " 'hummingbird': 0.00819672131147541,\n",
       " 'majestic': 0.01639344262295082,\n",
       " 'eagle': 0.01639344262295082,\n",
       " 'constant': 0.00819672131147541,\n",
       " 'presence': 0.00819672131147541,\n",
       " 'lives': 0.00819672131147541,\n",
       " 'whether': 0.02459016393442623,\n",
       " 'realizeone': 0.00819672131147541,\n",
       " 'interesting': 0.01639344262295082,\n",
       " 'things': 0.00819672131147541,\n",
       " 'ability': 0.00819672131147541,\n",
       " 'fly': 0.00819672131147541,\n",
       " 'better': 0.00819672131147541,\n",
       " 'others': 0.01639344262295082,\n",
       " 'wings': 0.01639344262295082,\n",
       " 'allow': 0.00819672131147541,\n",
       " 'soar': 0.00819672131147541,\n",
       " 'air': 0.00819672131147541,\n",
       " 'use': 0.00819672131147541,\n",
       " 'hunt': 0.00819672131147541,\n",
       " 'food': 0.01639344262295082,\n",
       " 'escape': 0.00819672131147541,\n",
       " 'predators': 0.00819672131147541,\n",
       " 'navigate': 0.00819672131147541,\n",
       " 'way': 0.00819672131147541,\n",
       " 'around': 0.00819672131147541,\n",
       " 'worldbirds': 0.00819672131147541,\n",
       " 'expert': 0.00819672131147541,\n",
       " 'fliers': 0.00819672131147541,\n",
       " 'also': 0.00819672131147541,\n",
       " 'known': 0.01639344262295082,\n",
       " 'beautiful': 0.00819672131147541,\n",
       " 'plumage': 0.00819672131147541,\n",
       " 'bright': 0.00819672131147541,\n",
       " 'blue': 0.01639344262295082,\n",
       " 'feathers': 0.02459016393442623,\n",
       " 'jay': 0.00819672131147541,\n",
       " 'vibrant': 0.00819672131147541,\n",
       " 'reds': 0.00819672131147541,\n",
       " 'greens': 0.00819672131147541,\n",
       " 'parrot': 0.01639344262295082,\n",
       " 'stunning': 0.00819672131147541,\n",
       " 'coloration': 0.00819672131147541,\n",
       " 'animal': 0.00819672131147541,\n",
       " 'kingdom': 0.00819672131147541,\n",
       " 'serve': 0.00819672131147541,\n",
       " 'functions': 0.00819672131147541,\n",
       " 'insulation': 0.00819672131147541,\n",
       " 'displayanother': 0.00819672131147541,\n",
       " 'thing': 0.00819672131147541,\n",
       " 'many': 0.00819672131147541,\n",
       " 'elaborate': 0.00819672131147541,\n",
       " 'courtship': 0.00819672131147541,\n",
       " 'rituals': 0.00819672131147541,\n",
       " 'males': 0.00819672131147541,\n",
       " 'dance': 0.00819672131147541,\n",
       " 'sing': 0.00819672131147541,\n",
       " 'display': 0.00819672131147541,\n",
       " 'attract': 0.00819672131147541,\n",
       " 'mate': 0.01639344262295082,\n",
       " 'even': 0.01639344262295082,\n",
       " 'form': 0.00819672131147541,\n",
       " 'lifelong': 0.00819672131147541,\n",
       " 'partnerships': 0.00819672131147541,\n",
       " 'chosen': 0.00819672131147541,\n",
       " 'raising': 0.00819672131147541,\n",
       " 'offspring': 0.00819672131147541,\n",
       " 'together': 0.00819672131147541,\n",
       " 'working': 0.00819672131147541,\n",
       " 'team': 0.00819672131147541,\n",
       " 'protect': 0.00819672131147541,\n",
       " 'territorycourse': 0.00819672131147541,\n",
       " 'migratory': 0.00819672131147541,\n",
       " 'traveling': 0.00819672131147541,\n",
       " 'thousands': 0.00819672131147541,\n",
       " 'miles': 0.00819672131147541,\n",
       " 'year': 0.00819672131147541,\n",
       " 'breed': 0.00819672131147541,\n",
       " 'find': 0.00819672131147541,\n",
       " 'sedentary': 0.00819672131147541,\n",
       " 'staying': 0.00819672131147541,\n",
       " 'one': 0.00819672131147541,\n",
       " 'place': 0.00819672131147541,\n",
       " 'yearround': 0.00819672131147541,\n",
       " 'endangered': 0.00819672131147541,\n",
       " 'facing': 0.00819672131147541,\n",
       " 'threats': 0.00819672131147541,\n",
       " 'habitat': 0.00819672131147541,\n",
       " 'loss': 0.00819672131147541,\n",
       " 'pollution': 0.00819672131147541,\n",
       " 'climate': 0.00819672131147541,\n",
       " 'changeoverall': 0.00819672131147541,\n",
       " 'diverse': 0.00819672131147541,\n",
       " 'group': 0.00819672131147541,\n",
       " 'animals': 0.00819672131147541,\n",
       " 'youre': 0.00819672131147541,\n",
       " 'watching': 0.00819672131147541,\n",
       " 'colorful': 0.00819672131147541,\n",
       " 'tropical': 0.00819672131147541,\n",
       " 'forest': 0.00819672131147541,\n",
       " 'soaring': 0.00819672131147541,\n",
       " 'high': 0.00819672131147541,\n",
       " 'theres': 0.00819672131147541,\n",
       " 'always': 0.00819672131147541,\n",
       " 'something': 0.00819672131147541,\n",
       " 'new': 0.00819672131147541,\n",
       " 'learn': 0.00819672131147541,\n",
       " 'discover': 0.00819672131147541,\n",
       " 'amazing': 0.00819672131147541}"
      ]
     },
     "execution_count": 55,
     "metadata": {},
     "output_type": "execute_result"
    }
   ],
   "source": [
    "tf(docPreProcessing('sample1.txt'))"
   ]
  }
 ],
 "metadata": {
  "kernelspec": {
   "display_name": "Python 3 (ipykernel)",
   "language": "python",
   "name": "python3"
  },
  "language_info": {
   "codemirror_mode": {
    "name": "ipython",
    "version": 3
   },
   "file_extension": ".py",
   "mimetype": "text/x-python",
   "name": "python",
   "nbconvert_exporter": "python",
   "pygments_lexer": "ipython3",
   "version": "3.9.7"
  }
 },
 "nbformat": 4,
 "nbformat_minor": 5
}
