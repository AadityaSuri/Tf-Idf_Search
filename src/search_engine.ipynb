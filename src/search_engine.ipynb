{
 "cells": [
  {
   "cell_type": "code",
   "execution_count": 16,
   "id": "d667a6ad",
   "metadata": {},
   "outputs": [
    {
     "name": "stderr",
     "output_type": "stream",
     "text": [
      "[nltk_data] Downloading package stopwords to\n",
      "[nltk_data]     C:\\Users\\aadit\\AppData\\Roaming\\nltk_data...\n",
      "[nltk_data]   Unzipping corpora\\stopwords.zip.\n"
     ]
    }
   ],
   "source": [
    "import pandas as pd\n",
    "import string\n",
    "import nltk\n",
    "nltk.download('stopwords')\n",
    "from collections import Counter\n",
    "from nltk.corpus import stopwords\n"
   ]
  },
  {
   "cell_type": "code",
   "execution_count": 21,
   "id": "ed89a463",
   "metadata": {},
   "outputs": [],
   "source": [
    "stopwords_dict = Counter(stopwords.words('english'))"
   ]
  },
  {
   "cell_type": "code",
   "execution_count": 27,
   "id": "c3cf8677",
   "metadata": {},
   "outputs": [],
   "source": [
    "def docPreProcessing(filepath):\n",
    "    file = open(filepath, 'r')\n",
    "    lines = file.readlines()\n",
    "    \n",
    "    for line in lines:\n",
    "        line = line.translate(str.maketrans('', '', string.punctuation)).strip()\n",
    "        line = ' '.join([word for word in line.split() if word not in stopwords_dict])\n",
    "        print(line)\n"
   ]
  },
  {
   "cell_type": "code",
   "execution_count": 28,
   "id": "10e5ad1a",
   "metadata": {},
   "outputs": [
    {
     "name": "stdout",
     "output_type": "stream",
     "text": [
      "Birds fascinating creatures planet They come variety shapes sizes colors behavior entertaining aweinspiring From tiny hummingbird majestic eagle birds constant presence lives whether realize\n",
      "\n",
      "One interesting things birds ability fly While birds better others birds wings allow soar air They use wings hunt food escape predators navigate way around world\n",
      "\n",
      "But birds expert fliers They also known beautiful plumage Whether bright blue feathers blue jay vibrant reds greens parrot birds stunning coloration animal kingdom And feathers serve variety functions insulation display\n",
      "\n",
      "Another interesting thing birds behavior Many birds known elaborate courtship rituals males dance sing display feathers attract mate And birds even form lifelong partnerships chosen mate raising offspring together working team protect territory\n",
      "\n",
      "Of course birds Some migratory traveling thousands miles year breed find food Others sedentary staying one place yearround And birds even endangered facing threats habitat loss pollution climate change\n",
      "\n",
      "Overall birds fascinating diverse group animals Whether youre watching colorful parrot tropical forest majestic eagle soaring high theres always something new learn discover amazing creatures\n"
     ]
    }
   ],
   "source": [
    "docPreProcessing('sample1.txt')"
   ]
  },
  {
   "cell_type": "code",
   "execution_count": null,
   "id": "2866906d",
   "metadata": {},
   "outputs": [],
   "source": []
  }
 ],
 "metadata": {
  "kernelspec": {
   "display_name": "Python 3 (ipykernel)",
   "language": "python",
   "name": "python3"
  },
  "language_info": {
   "codemirror_mode": {
    "name": "ipython",
    "version": 3
   },
   "file_extension": ".py",
   "mimetype": "text/x-python",
   "name": "python",
   "nbconvert_exporter": "python",
   "pygments_lexer": "ipython3",
   "version": "3.9.7"
  }
 },
 "nbformat": 4,
 "nbformat_minor": 5
}
