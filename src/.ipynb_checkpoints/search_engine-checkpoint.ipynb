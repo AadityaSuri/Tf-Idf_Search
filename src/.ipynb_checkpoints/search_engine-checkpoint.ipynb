{
 "cells": [
  {
   "cell_type": "code",
   "execution_count": 72,
   "id": "1b0ac55b",
   "metadata": {},
   "outputs": [
    {
     "name": "stderr",
     "output_type": "stream",
     "text": [
      "[nltk_data] Downloading package stopwords to\n",
      "[nltk_data]     C:\\Users\\aadit\\AppData\\Roaming\\nltk_data...\n",
      "[nltk_data]   Package stopwords is already up-to-date!\n"
     ]
    }
   ],
   "source": [
    "import pandas as pd\n",
    "import string\n",
    "import nltk\n",
    "nltk.download('stopwords')\n",
    "from collections import Counter\n",
    "from nltk.corpus import stopwords\n",
    "import math\n",
    "import numpy as np"
   ]
  },
  {
   "cell_type": "code",
   "execution_count": 73,
   "id": "3502b4cc",
   "metadata": {},
   "outputs": [],
   "source": [
    "stopwords_dict = Counter(stopwords.words('english'))"
   ]
  },
  {
   "cell_type": "code",
   "execution_count": 74,
   "id": "b383cf0a",
   "metadata": {},
   "outputs": [],
   "source": [
    "def docPreProcessing(filepath):\n",
    "    file = open(filepath, 'r')\n",
    "    lines = file.readlines()\n",
    "    \n",
    "    \n",
    "    doctext = \"\"\n",
    "    for line in lines:\n",
    "        line = line.translate(str.maketrans('', '', string.punctuation)).strip().lower()\n",
    "        line = ' '.join([word for word in line.split() if word not in stopwords_dict])\n",
    "        doctext += line\n",
    "        \n",
    "    doctextList = doctext.split()\n",
    "    return doctextList\n",
    "        \n"
   ]
  },
  {
   "cell_type": "code",
   "execution_count": null,
   "id": "6610cb9f",
   "metadata": {},
   "outputs": [],
   "source": []
  },
  {
   "cell_type": "code",
   "execution_count": 75,
   "id": "28045222",
   "metadata": {},
   "outputs": [],
   "source": [
    "def tf(wordlist):\n",
    "    wordmap = {}\n",
    "    \n",
    "    for word in wordlist:\n",
    "        if word in wordmap:\n",
    "            wordmap[word] += 1\n",
    "        else:\n",
    "            wordmap[word] = 1\n",
    "            \n",
    "    \n",
    "    numWords = len(wordmap)\n",
    "#     print(numWords)\n",
    "    \n",
    "    for word in wordmap:\n",
    "        wordmap[word] = wordmap[word] / numWords\n",
    "    \n",
    "    return wordmap\n",
    "        \n"
   ]
  },
  {
   "cell_type": "code",
   "execution_count": 76,
   "id": "974b680b",
   "metadata": {},
   "outputs": [],
   "source": [
    "# tf(docPreProcessing('sample1.txt'))"
   ]
  },
  {
   "cell_type": "code",
   "execution_count": 77,
   "id": "351ee757",
   "metadata": {},
   "outputs": [],
   "source": [
    "def idf(doclist):\n",
    "    \n",
    "#     termSet = set()\n",
    "    idfmap = {}\n",
    "    \n",
    "    for doc in doclist:\n",
    "        wordmap = tf(docPreProcessing(doc))\n",
    "        \n",
    "        for term in wordmap:\n",
    "            if term in idfmap:\n",
    "                idfmap[term] += 1\n",
    "            else:\n",
    "                idfmap[term] = 1\n",
    "                \n",
    "    N = len(doclist)\n",
    "                \n",
    "            \n",
    "    for term in idfmap:\n",
    "        idfmap[term] = math.log(N/idfmap[term], 2)\n",
    "        \n",
    "    return idfmap\n",
    "        "
   ]
  },
  {
   "cell_type": "code",
   "execution_count": 78,
   "id": "b627c5b3",
   "metadata": {},
   "outputs": [],
   "source": [
    "# doclist = []\n",
    "\n",
    "# i = 1\n",
    "# for i in range(1, 7):\n",
    "#     doclist.append('sample' + str(i) + '.txt')\n",
    "    \n",
    "# print(idf(doclist))"
   ]
  },
  {
   "cell_type": "code",
   "execution_count": 83,
   "id": "5cc01f59",
   "metadata": {},
   "outputs": [],
   "source": [
    "def docMatrixBuilder(doclist, tf, idf):\n",
    "    idfmap = idf(doclist)\n",
    "    terms = list(idfmap)\n",
    "    df = pd.DataFrame(0, index = terms, columns = doclist)\n",
    "    \n",
    "    for doc in doclist:\n",
    "        wordmap = tf(docPreProcessing(doc))\n",
    "        \n",
    "        for word in wordmap:\n",
    "            df.loc[word, doc] = wordmap[word]\n",
    "        \n",
    "        for term in idfmap:\n",
    "            df.loc[term, doc] *= idfmap[term]\n",
    "            \n",
    "    \n",
    "    \n",
    "    return df"
   ]
  },
  {
   "cell_type": "code",
   "execution_count": 149,
   "id": "02bce609",
   "metadata": {},
   "outputs": [],
   "source": [
    "def cosineSimilarityScore(q, D):\n",
    "    q_mag = np.sqrt(q.dot(q))\n",
    "    \n",
    "    qT = np.reshape(q, (1, q.shape[0]))\n",
    "    qTD = np.matmul(qT, D).reshape((D.shape[1], ))\n",
    "    \n",
    "    D_mags = np.sqrt(np.sum(D*D, axis=0))\n",
    "    divisors = q_mag * D_mags\n",
    "    cos_thetas = np.divide(qTD, divisors)\n",
    "    \n",
    "    cos_thetas = np.clip(cos_thetas, -1, 1)\n",
    "    \n",
    "    scores = np.arccos(cos_thetas)\n",
    "    \n",
    "    return scores\n",
    "    \n",
    "    \n",
    "    \n",
    "# magnitude = np.sqrt(x.dot(x))\n",
    "    "
   ]
  },
  {
   "cell_type": "code",
   "execution_count": 118,
   "id": "82780462",
   "metadata": {},
   "outputs": [
    {
     "name": "stdout",
     "output_type": "stream",
     "text": [
      "[1 1 0]\n",
      "(3,)\n",
      "[[1 1 0]]\n",
      "[[1]\n",
      " [1]\n",
      " [0]]\n"
     ]
    }
   ],
   "source": [
    "# x = np.array([1, 1, 0])\n",
    "# y = np.array([1, 0, 1])\n",
    "\n",
    "# print(x)\n",
    "# print(x.shape)\n",
    "# x = np.reshape(x, (1, x.shape[0]))\n",
    "# print(x)\n",
    "# x = np.transpose(x)\n",
    "# print(x)\n",
    "\n",
    "# # print(x.shape)\n"
   ]
  },
  {
   "cell_type": "code",
   "execution_count": 150,
   "id": "aa2c821b",
   "metadata": {},
   "outputs": [
    {
     "data": {
      "text/plain": [
       "array([5.57550399e-08, 1.55800114e+00, 1.52669865e+00, 1.56217852e+00,\n",
       "       1.56500247e+00, 1.56378418e+00])"
      ]
     },
     "execution_count": 150,
     "metadata": {},
     "output_type": "execute_result"
    }
   ],
   "source": [
    "doclist = []\n",
    "\n",
    "i = 1\n",
    "for i in range(1, 7):\n",
    "     doclist.append('sample' + str(i) + '.txt')\n",
    "        \n",
    "tfidfDataframe = docMatrixBuilder(doclist, tf, idf)\n",
    "tfidfMatrix = tfidfDataframe.to_numpy().round(decimals=4)\n",
    "\n",
    "q = tfidfMatrix[:, 0]\n",
    "\n",
    "cosineSimilarityScore(q, tfidfMatrix)\n",
    "\n",
    "# print(tfidfDataframe)\n",
    "# print(tfidfMatrix[:, 0].shape)\n",
    "\n",
    "# # docvectors = []\n",
    "\n",
    "# for d1 in doclist:\n",
    "#     for d2 in doclist:\n",
    "#         d1_v = tfidfMatrix.loc[:, d1].to_numpy\n",
    "#         d2_v = tfidfMatrix.loc[:, d2].to_numpy\n",
    "#         angle = cosineSimilarityScore(d1_v, d2_v)\n",
    "        \n",
    "#         print(d1 + \" vs \" + d1 + \": \" + angle)\n",
    "        \n",
    "        \n",
    "        \n",
    "\n",
    "\n",
    "# cosineSimilarityScore(tdidfMatrix)\n"
   ]
  }
 ],
 "metadata": {
  "kernelspec": {
   "display_name": "Python 3 (ipykernel)",
   "language": "python",
   "name": "python3"
  },
  "language_info": {
   "codemirror_mode": {
    "name": "ipython",
    "version": 3
   },
   "file_extension": ".py",
   "mimetype": "text/x-python",
   "name": "python",
   "nbconvert_exporter": "python",
   "pygments_lexer": "ipython3",
   "version": "3.9.7"
  }
 },
 "nbformat": 4,
 "nbformat_minor": 5
}
