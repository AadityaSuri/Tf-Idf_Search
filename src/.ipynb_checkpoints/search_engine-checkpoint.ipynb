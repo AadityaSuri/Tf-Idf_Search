{
 "cells": [
  {
   "cell_type": "code",
   "execution_count": 72,
   "id": "1b0ac55b",
   "metadata": {},
   "outputs": [
    {
     "name": "stderr",
     "output_type": "stream",
     "text": [
      "[nltk_data] Downloading package stopwords to\n",
      "[nltk_data]     C:\\Users\\aadit\\AppData\\Roaming\\nltk_data...\n",
      "[nltk_data]   Package stopwords is already up-to-date!\n"
     ]
    }
   ],
   "source": [
    "import pandas as pd\n",
    "import string\n",
    "import nltk\n",
    "nltk.download('stopwords')\n",
    "from collections import Counter\n",
    "from nltk.corpus import stopwords\n",
    "import math\n",
    "import numpy as np"
   ]
  },
  {
   "cell_type": "code",
   "execution_count": 73,
   "id": "3502b4cc",
   "metadata": {},
   "outputs": [],
   "source": [
    "stopwords_dict = Counter(stopwords.words('english'))"
   ]
  },
  {
   "cell_type": "code",
   "execution_count": 74,
   "id": "b383cf0a",
   "metadata": {},
   "outputs": [],
   "source": [
    "def docPreProcessing(filepath):\n",
    "    file = open(filepath, 'r')\n",
    "    lines = file.readlines()\n",
    "    \n",
    "    \n",
    "    doctext = \"\"\n",
    "    for line in lines:\n",
    "        line = line.translate(str.maketrans('', '', string.punctuation)).strip().lower()\n",
    "        line = ' '.join([word for word in line.split() if word not in stopwords_dict])\n",
    "        doctext += line\n",
    "        \n",
    "    doctextList = doctext.split()\n",
    "    return doctextList\n",
    "        \n"
   ]
  },
  {
   "cell_type": "code",
   "execution_count": null,
   "id": "6610cb9f",
   "metadata": {},
   "outputs": [],
   "source": []
  },
  {
   "cell_type": "code",
   "execution_count": 75,
   "id": "28045222",
   "metadata": {},
   "outputs": [],
   "source": [
    "def tf(wordlist):\n",
    "    wordmap = {}\n",
    "    \n",
    "    for word in wordlist:\n",
    "        if word in wordmap:\n",
    "            wordmap[word] += 1\n",
    "        else:\n",
    "            wordmap[word] = 1\n",
    "            \n",
    "    \n",
    "    numWords = len(wordmap)\n",
    "#     print(numWords)\n",
    "    \n",
    "    for word in wordmap:\n",
    "        wordmap[word] = wordmap[word] / numWords\n",
    "    \n",
    "    return wordmap\n",
    "        \n"
   ]
  },
  {
   "cell_type": "code",
   "execution_count": 76,
   "id": "974b680b",
   "metadata": {},
   "outputs": [],
   "source": [
    "# tf(docPreProcessing('sample1.txt'))"
   ]
  },
  {
   "cell_type": "code",
   "execution_count": 77,
   "id": "351ee757",
   "metadata": {},
   "outputs": [],
   "source": [
    "def idf(doclist):\n",
    "    \n",
    "#     termSet = set()\n",
    "    idfmap = {}\n",
    "    \n",
    "    for doc in doclist:\n",
    "        wordmap = tf(docPreProcessing(doc))\n",
    "        \n",
    "        for term in wordmap:\n",
    "            if term in idfmap:\n",
    "                idfmap[term] += 1\n",
    "            else:\n",
    "                idfmap[term] = 1\n",
    "                \n",
    "    N = len(doclist)\n",
    "                \n",
    "            \n",
    "    for term in idfmap:\n",
    "        idfmap[term] = math.log(N/idfmap[term], 2)\n",
    "        \n",
    "    return idfmap\n",
    "        "
   ]
  },
  {
   "cell_type": "code",
   "execution_count": 78,
   "id": "b627c5b3",
   "metadata": {},
   "outputs": [],
   "source": [
    "# doclist = []\n",
    "\n",
    "# i = 1\n",
    "# for i in range(1, 7):\n",
    "#     doclist.append('sample' + str(i) + '.txt')\n",
    "    \n",
    "# print(idf(doclist))"
   ]
  },
  {
   "cell_type": "code",
   "execution_count": 83,
   "id": "f7cfc05a",
   "metadata": {},
   "outputs": [],
   "source": [
    "def docMatrixBuilder(doclist, tf, idf):\n",
    "    idfmap = idf(doclist)\n",
    "    terms = list(idfmap)\n",
    "    df = pd.DataFrame(0, index = terms, columns = doclist)\n",
    "    \n",
    "    for doc in doclist:\n",
    "        wordmap = tf(docPreProcessing(doc))\n",
    "        \n",
    "        for word in wordmap:\n",
    "            df.loc[word, doc] = wordmap[word]\n",
    "        \n",
    "        for term in idfmap:\n",
    "            df.loc[term, doc] *= idfmap[term]\n",
    "            \n",
    "    \n",
    "    \n",
    "    return df"
   ]
  },
  {
   "cell_type": "code",
   "execution_count": 87,
   "id": "a9ccf914",
   "metadata": {},
   "outputs": [],
   "source": [
    "# def cosineSimilarityScore(q, D):\n",
    "    "
   ]
  },
  {
   "cell_type": "code",
   "execution_count": 96,
   "id": "1e4cdc31",
   "metadata": {},
   "outputs": [
    {
     "name": "stdout",
     "output_type": "stream",
     "text": [
      "(679,)\n"
     ]
    }
   ],
   "source": [
    "doclist = []\n",
    "\n",
    "i = 1\n",
    "for i in range(1, 7):\n",
    "     doclist.append('sample' + str(i) + '.txt')\n",
    "        \n",
    "tfidfDataframe = docMatrixBuilder(doclist, tf, idf)\n",
    "tfidfMatrix = tfidfDataframe.to_numpy().round(decimals=4)\n",
    "\n",
    "# print(tfidfDataframe)\n",
    "print(tfidfMatrix[:, 0].shape)\n",
    "\n",
    "# # docvectors = []\n",
    "\n",
    "# for d1 in doclist:\n",
    "#     for d2 in doclist:\n",
    "#         d1_v = tfidfMatrix.loc[:, d1].to_numpy\n",
    "#         d2_v = tfidfMatrix.loc[:, d2].to_numpy\n",
    "#         angle = cosineSimilarityScore(d1_v, d2_v)\n",
    "        \n",
    "#         print(d1 + \" vs \" + d1 + \": \" + angle)\n",
    "        \n",
    "        \n",
    "        \n",
    "\n",
    "\n",
    "# cosineSimilarityScore(tdidfMatrix)\n"
   ]
  }
 ],
 "metadata": {
  "kernelspec": {
   "display_name": "Python 3 (ipykernel)",
   "language": "python",
   "name": "python3"
  },
  "language_info": {
   "codemirror_mode": {
    "name": "ipython",
    "version": 3
   },
   "file_extension": ".py",
   "mimetype": "text/x-python",
   "name": "python",
   "nbconvert_exporter": "python",
   "pygments_lexer": "ipython3",
   "version": "3.9.7"
  }
 },
 "nbformat": 4,
 "nbformat_minor": 5
}
