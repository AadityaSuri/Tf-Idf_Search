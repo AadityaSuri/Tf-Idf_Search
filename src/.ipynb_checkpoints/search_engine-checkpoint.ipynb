{
 "cells": [
  {
   "cell_type": "code",
   "execution_count": 13,
   "id": "1b0ac55b",
   "metadata": {},
   "outputs": [
    {
     "name": "stderr",
     "output_type": "stream",
     "text": [
      "[nltk_data] Downloading package stopwords to\n",
      "[nltk_data]     C:\\Users\\aadit\\AppData\\Roaming\\nltk_data...\n",
      "[nltk_data]   Package stopwords is already up-to-date!\n"
     ]
    }
   ],
   "source": [
    "import pandas as pd\n",
    "import string\n",
    "import nltk\n",
    "nltk.download('stopwords')\n",
    "from collections import Counter\n",
    "from nltk.corpus import stopwords\n",
    "import math"
   ]
  },
  {
   "cell_type": "code",
   "execution_count": 2,
   "id": "3502b4cc",
   "metadata": {},
   "outputs": [],
   "source": [
    "stopwords_dict = Counter(stopwords.words('english'))"
   ]
  },
  {
   "cell_type": "code",
   "execution_count": 3,
   "id": "b383cf0a",
   "metadata": {},
   "outputs": [],
   "source": [
    "def docPreProcessing(filepath):\n",
    "    file = open(filepath, 'r')\n",
    "    lines = file.readlines()\n",
    "    \n",
    "    \n",
    "    doctext = \"\"\n",
    "    for line in lines:\n",
    "        line = line.translate(str.maketrans('', '', string.punctuation)).strip().lower()\n",
    "        line = ' '.join([word for word in line.split() if word not in stopwords_dict])\n",
    "        doctext += line\n",
    "        \n",
    "    doctextList = doctext.split()\n",
    "    return doctextList\n",
    "        \n"
   ]
  },
  {
   "cell_type": "code",
   "execution_count": null,
   "id": "6610cb9f",
   "metadata": {},
   "outputs": [],
   "source": []
  },
  {
   "cell_type": "code",
   "execution_count": 4,
   "id": "28045222",
   "metadata": {},
   "outputs": [],
   "source": [
    "def tf(wordlist):\n",
    "    wordmap = {}\n",
    "    \n",
    "    for word in wordlist:\n",
    "        if word in wordmap:\n",
    "            wordmap[word] += 1\n",
    "        else:\n",
    "            wordmap[word] = 1\n",
    "            \n",
    "    \n",
    "    numWords = len(wordmap)\n",
    "#     print(numWords)\n",
    "    \n",
    "    for word in wordmap:\n",
    "        wordmap[word] = wordmap[word] / numWords\n",
    "    \n",
    "    return wordmap\n",
    "        \n"
   ]
  },
  {
   "cell_type": "code",
   "execution_count": 62,
   "id": "974b680b",
   "metadata": {},
   "outputs": [],
   "source": [
    "# tf(docPreProcessing('sample1.txt'))"
   ]
  },
  {
   "cell_type": "code",
   "execution_count": 35,
   "id": "351ee757",
   "metadata": {},
   "outputs": [],
   "source": [
    "def idf(doclist):\n",
    "    \n",
    "#     termSet = set()\n",
    "    idfmap = {}\n",
    "    \n",
    "    for doc in doclist:\n",
    "        wordmap = tf(docPreProcessing(doc))\n",
    "        \n",
    "        for term in wordmap:\n",
    "            if term in idfmap:\n",
    "                idfmap[term] += 1\n",
    "            else:\n",
    "                idfmap[term] = 1\n",
    "                \n",
    "    N = len(doclist)\n",
    "                \n",
    "            \n",
    "    for term in idfmap:\n",
    "        idfmap[term] = math.log(N/idfmap[term], 2)\n",
    "        \n",
    "    return idfmap\n",
    "        "
   ]
  },
  {
   "cell_type": "code",
   "execution_count": 36,
   "id": "b627c5b3",
   "metadata": {},
   "outputs": [],
   "source": [
    "# doclist = []\n",
    "\n",
    "# i = 1\n",
    "# for i in range(1, 7):\n",
    "#     doclist.append('sample' + str(i) + '.txt')\n",
    "    \n",
    "# print(idf(doclist))"
   ]
  },
  {
   "cell_type": "code",
   "execution_count": 44,
   "id": "38224b35",
   "metadata": {},
   "outputs": [],
   "source": [
    "def docMatrixBuilder(doclist, tf, idf):\n",
    "    idfmap = idf(doclist)\n",
    "    terms = list(idfmap)\n",
    "    d = pd.DataFrame(0, index = terms, columns = doclist)\n",
    "    print(d)"
   ]
  },
  {
   "cell_type": "code",
   "execution_count": 45,
   "id": "a5b876c7",
   "metadata": {},
   "outputs": [
    {
     "name": "stdout",
     "output_type": "stream",
     "text": [
      "              sample1.txt  sample2.txt  sample3.txt  sample4.txt  sample5.txt  \\\n",
      "birds                   0            0            0            0            0   \n",
      "fascinating             0            0            0            0            0   \n",
      "creatures               0            0            0            0            0   \n",
      "planet                  0            0            0            0            0   \n",
      "come                    0            0            0            0            0   \n",
      "...                   ...          ...          ...          ...          ...   \n",
      "appeal                  0            0            0            0            0   \n",
      "significance            0            0            0            0            0   \n",
      "true                    0            0            0            0            0   \n",
      "icon                    0            0            0            0            0   \n",
      "beloved                 0            0            0            0            0   \n",
      "\n",
      "              sample6.txt  \n",
      "birds                   0  \n",
      "fascinating             0  \n",
      "creatures               0  \n",
      "planet                  0  \n",
      "come                    0  \n",
      "...                   ...  \n",
      "appeal                  0  \n",
      "significance            0  \n",
      "true                    0  \n",
      "icon                    0  \n",
      "beloved                 0  \n",
      "\n",
      "[679 rows x 6 columns]\n"
     ]
    }
   ],
   "source": [
    "doclist = []\n",
    "\n",
    "i = 1\n",
    "for i in range(1, 7):\n",
    "     doclist.append('sample' + str(i) + '.txt')\n",
    "        \n",
    "docMatrixBuilder(doclist, tf, idf)\n"
   ]
  }
 ],
 "metadata": {
  "kernelspec": {
   "display_name": "Python 3 (ipykernel)",
   "language": "python",
   "name": "python3"
  },
  "language_info": {
   "codemirror_mode": {
    "name": "ipython",
    "version": 3
   },
   "file_extension": ".py",
   "mimetype": "text/x-python",
   "name": "python",
   "nbconvert_exporter": "python",
   "pygments_lexer": "ipython3",
   "version": "3.9.7"
  }
 },
 "nbformat": 4,
 "nbformat_minor": 5
}
