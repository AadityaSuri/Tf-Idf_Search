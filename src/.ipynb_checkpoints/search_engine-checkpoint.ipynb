{
 "cells": [
  {
   "cell_type": "code",
   "execution_count": 16,
   "id": "4395baa4",
   "metadata": {},
   "outputs": [
    {
     "name": "stderr",
     "output_type": "stream",
     "text": [
      "[nltk_data] Downloading package stopwords to\n",
      "[nltk_data]     C:\\Users\\aadit\\AppData\\Roaming\\nltk_data...\n",
      "[nltk_data]   Unzipping corpora\\stopwords.zip.\n"
     ]
    }
   ],
   "source": [
    "import pandas as pd\n",
    "import string\n",
    "import nltk\n",
    "nltk.download('stopwords')\n",
    "from collections import Counter\n",
    "from nltk.corpus import stopwords\n"
   ]
  },
  {
   "cell_type": "code",
   "execution_count": 21,
   "id": "3411c998",
   "metadata": {},
   "outputs": [],
   "source": [
    "stopwords_dict = Counter(stopwords.words('english'))"
   ]
  },
  {
   "cell_type": "code",
   "execution_count": 33,
   "id": "e4964f2c",
   "metadata": {},
   "outputs": [],
   "source": [
    "def docPreProcessing(filepath):\n",
    "    file = open(filepath, 'r')\n",
    "    lines = file.readlines()\n",
    "    \n",
    "    \n",
    "    doctext = \"\"\n",
    "    for line in lines:\n",
    "        line = line.translate(str.maketrans('', '', string.punctuation)).strip().lower()\n",
    "        line = ' '.join([word for word in line.split() if word not in stopwords_dict])\n",
    "        doctext += line\n",
    "        \n",
    "    doctextList = doctext.split()\n",
    "    return doctextList\n",
    "        \n"
   ]
  },
  {
   "cell_type": "code",
   "execution_count": 34,
   "id": "87242473",
   "metadata": {},
   "outputs": [
    {
     "name": "stdout",
     "output_type": "stream",
     "text": [
      "['birds', 'fascinating', 'creatures', 'planet', 'come', 'variety', 'shapes', 'sizes', 'colors', 'behavior', 'entertaining', 'aweinspiring', 'tiny', 'hummingbird', 'majestic', 'eagle', 'birds', 'constant', 'presence', 'lives', 'whether', 'realizeone', 'interesting', 'things', 'birds', 'ability', 'fly', 'birds', 'better', 'others', 'birds', 'wings', 'allow', 'soar', 'air', 'use', 'wings', 'hunt', 'food', 'escape', 'predators', 'navigate', 'way', 'around', 'worldbirds', 'expert', 'fliers', 'also', 'known', 'beautiful', 'plumage', 'whether', 'bright', 'blue', 'feathers', 'blue', 'jay', 'vibrant', 'reds', 'greens', 'parrot', 'birds', 'stunning', 'coloration', 'animal', 'kingdom', 'feathers', 'serve', 'variety', 'functions', 'insulation', 'displayanother', 'interesting', 'thing', 'birds', 'behavior', 'many', 'birds', 'known', 'elaborate', 'courtship', 'rituals', 'males', 'dance', 'sing', 'display', 'feathers', 'attract', 'mate', 'birds', 'even', 'form', 'lifelong', 'partnerships', 'chosen', 'mate', 'raising', 'offspring', 'together', 'working', 'team', 'protect', 'territorycourse', 'birds', 'migratory', 'traveling', 'thousands', 'miles', 'year', 'breed', 'find', 'food', 'others', 'sedentary', 'staying', 'one', 'place', 'yearround', 'birds', 'even', 'endangered', 'facing', 'threats', 'habitat', 'loss', 'pollution', 'climate', 'changeoverall', 'birds', 'fascinating', 'diverse', 'group', 'animals', 'whether', 'youre', 'watching', 'colorful', 'parrot', 'tropical', 'forest', 'majestic', 'eagle', 'soaring', 'high', 'theres', 'always', 'something', 'new', 'learn', 'discover', 'amazing', 'creatures']\n"
     ]
    }
   ],
   "source": [
    "docPreProcessing('sample1.txt')"
   ]
  },
  {
   "cell_type": "code",
   "execution_count": null,
   "id": "ec6c9d97",
   "metadata": {},
   "outputs": [],
   "source": []
  }
 ],
 "metadata": {
  "kernelspec": {
   "display_name": "Python 3 (ipykernel)",
   "language": "python",
   "name": "python3"
  },
  "language_info": {
   "codemirror_mode": {
    "name": "ipython",
    "version": 3
   },
   "file_extension": ".py",
   "mimetype": "text/x-python",
   "name": "python",
   "nbconvert_exporter": "python",
   "pygments_lexer": "ipython3",
   "version": "3.9.7"
  }
 },
 "nbformat": 4,
 "nbformat_minor": 5
}
