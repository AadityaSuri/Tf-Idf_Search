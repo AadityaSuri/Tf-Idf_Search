{
 "cells": [
  {
   "cell_type": "code",
   "execution_count": 1,
   "metadata": {},
   "outputs": [],
   "source": [
    "import string\n",
    "from collections import Counter\n",
    "from nltk.corpus import stopwords\n",
    "import time"
   ]
  },
  {
   "cell_type": "code",
   "execution_count": 5,
   "metadata": {},
   "outputs": [],
   "source": [
    "def BENCHMARKING(fn, filepath):\n",
    "    starttime = time.time_ns() \n",
    "    fn(filepath)\n",
    "    endtime = time.time_ns()\n",
    "\n",
    "    return (endtime - starttime) / (10**3)"
   ]
  },
  {
   "cell_type": "code",
   "execution_count": 3,
   "metadata": {},
   "outputs": [],
   "source": [
    "def docPreProcessing(filepath):\n",
    "    stopwords_dict = Counter(stopwords.words('english'))\n",
    "\n",
    "\n",
    "    docTextList = []\n",
    "    with open(filepath, 'r', errors='replace') as file:\n",
    "        for line in file:\n",
    "            for word in line.split():\n",
    "                word = word.translate(str.maketrans('', '', string.punctuation)).strip().lower()\n",
    "                if word not in stopwords_dict and word != '':\n",
    "                    docTextList.append(word)\n",
    "\n",
    "    return docTextList"
   ]
  },
  {
   "cell_type": "code",
   "execution_count": 6,
   "metadata": {},
   "outputs": [
    {
     "data": {
      "text/plain": [
       "0.002283848"
      ]
     },
     "execution_count": 6,
     "metadata": {},
     "output_type": "execute_result"
    }
   ],
   "source": [
    "BENCHMARKING(docPreProcessing, '../testset/sci.space/60151')"
   ]
  }
 ],
 "metadata": {
  "kernelspec": {
   "display_name": "Python 3",
   "language": "python",
   "name": "python3"
  },
  "language_info": {
   "codemirror_mode": {
    "name": "ipython",
    "version": 3
   },
   "file_extension": ".py",
   "mimetype": "text/x-python",
   "name": "python",
   "nbconvert_exporter": "python",
   "pygments_lexer": "ipython3",
   "version": "3.10.6"
  },
  "orig_nbformat": 4
 },
 "nbformat": 4,
 "nbformat_minor": 2
}
