{
 "cells": [
  {
   "cell_type": "code",
   "execution_count": 27,
   "metadata": {},
   "outputs": [],
   "source": [
    "import string\n",
    "from collections import Counter\n",
    "from nltk.corpus import stopwords\n",
    "import time\n",
    "import cppbindings"
   ]
  },
  {
   "cell_type": "code",
   "execution_count": 28,
   "metadata": {},
   "outputs": [],
   "source": [
    "def BENCHMARKING(fn, filepath):\n",
    "    starttime = time.time_ns() \n",
    "    fn(filepath)\n",
    "    endtime = time.time_ns()\n",
    "\n",
    "    return (endtime - starttime) / (10**3)"
   ]
  },
  {
   "cell_type": "code",
   "execution_count": 29,
   "metadata": {},
   "outputs": [],
   "source": [
    "def docPreProcessing(filepath):\n",
    "    stopwords_dict = Counter(stopwords.words('english'))\n",
    "\n",
    "\n",
    "    docTextList = []\n",
    "    with open(filepath, 'r', errors='replace') as file:\n",
    "        for line in file:\n",
    "            for word in line.split():\n",
    "                word = word.translate(str.maketrans('', '', string.punctuation)).strip().lower()\n",
    "                if word not in stopwords_dict and word != '':\n",
    "                    docTextList.append(word)\n",
    "\n",
    "    return docTextList"
   ]
  },
  {
   "cell_type": "code",
   "execution_count": 36,
   "metadata": {},
   "outputs": [
    {
     "data": {
      "text/plain": [
       "6562.363"
      ]
     },
     "execution_count": 36,
     "metadata": {},
     "output_type": "execute_result"
    }
   ],
   "source": [
    "BENCHMARKING(docPreProcessing, '../testset/sci.space/60151')"
   ]
  },
  {
   "cell_type": "code",
   "execution_count": 44,
   "metadata": {},
   "outputs": [
    {
     "data": {
      "text/plain": [
       "276.517"
      ]
     },
     "execution_count": 44,
     "metadata": {},
     "output_type": "execute_result"
    }
   ],
   "source": [
    "BENCHMARKING(cppbindings.docPreProcessing, '../testset/sci.space/60151')"
   ]
  },
  {
   "cell_type": "code",
   "execution_count": 45,
   "metadata": {},
   "outputs": [
    {
     "data": {
      "text/plain": [
       "['at',\n",
       " 'no',\n",
       " 'few',\n",
       " 're',\n",
       " 'is',\n",
       " 'has',\n",
       " 'them',\n",
       " 'or',\n",
       " 'their',\n",
       " 'in',\n",
       " 'and',\n",
       " 'its',\n",
       " 'if',\n",
       " 'after',\n",
       " 'have',\n",
       " 'on',\n",
       " 'had',\n",
       " 'doing',\n",
       " 'of',\n",
       " 'because',\n",
       " 'so',\n",
       " 'some',\n",
       " 'been',\n",
       " 'there',\n",
       " 'just',\n",
       " 'that',\n",
       " 'a',\n",
       " 'the',\n",
       " 'from',\n",
       " 'it',\n",
       " 'by',\n",
       " 'how',\n",
       " 'for',\n",
       " 'out',\n",
       " 'with',\n",
       " 'to',\n",
       " 'they',\n",
       " 'are',\n",
       " 'but',\n",
       " 'all',\n",
       " 'was']"
      ]
     },
     "execution_count": 45,
     "metadata": {},
     "output_type": "execute_result"
    }
   ],
   "source": [
    "cpplist = cppbindings.docPreProcessing('../testset/sci.space/60151')\n",
    "pylist = docPreProcessing('../testset/sci.space/60151')\n",
    "\n",
    "diff = list(set(cpplist) - set(pylist))\n",
    "diff"
   ]
  }
 ],
 "metadata": {
  "kernelspec": {
   "display_name": "Python 3",
   "language": "python",
   "name": "python3"
  },
  "language_info": {
   "codemirror_mode": {
    "name": "ipython",
    "version": 3
   },
   "file_extension": ".py",
   "mimetype": "text/x-python",
   "name": "python",
   "nbconvert_exporter": "python",
   "pygments_lexer": "ipython3",
   "version": "3.10.6"
  },
  "orig_nbformat": 4
 },
 "nbformat": 4,
 "nbformat_minor": 2
}
